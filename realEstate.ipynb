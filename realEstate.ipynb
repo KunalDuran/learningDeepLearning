{
 "cells": [
  {
   "cell_type": "code",
   "execution_count": 1,
   "metadata": {},
   "outputs": [
    {
     "name": "stderr",
     "output_type": "stream",
     "text": [
      "/home/kunalduran/anaconda3/lib/python3.7/site-packages/statsmodels/tools/_testing.py:19: FutureWarning: pandas.util.testing is deprecated. Use the functions in the public API at pandas.testing instead.\n",
      "  import pandas.util.testing as tm\n"
     ]
    }
   ],
   "source": [
    "import tensorflow as tf\n",
    "import pandas as pd\n",
    "import numpy as np\n",
    "import matplotlib.pyplot as plt\n",
    "import seaborn as sns"
   ]
  },
  {
   "cell_type": "markdown",
   "metadata": {},
   "source": [
    "## EDA"
   ]
  },
  {
   "cell_type": "code",
   "execution_count": 2,
   "metadata": {},
   "outputs": [],
   "source": [
    "# reading dataset\n",
    "df = pd.read_csv('real_estate.csv')"
   ]
  },
  {
   "cell_type": "code",
   "execution_count": 3,
   "metadata": {},
   "outputs": [
    {
     "data": {
      "text/html": [
       "<div>\n",
       "<style scoped>\n",
       "    .dataframe tbody tr th:only-of-type {\n",
       "        vertical-align: middle;\n",
       "    }\n",
       "\n",
       "    .dataframe tbody tr th {\n",
       "        vertical-align: top;\n",
       "    }\n",
       "\n",
       "    .dataframe thead th {\n",
       "        text-align: right;\n",
       "    }\n",
       "</style>\n",
       "<table border=\"1\" class=\"dataframe\">\n",
       "  <thead>\n",
       "    <tr style=\"text-align: right;\">\n",
       "      <th></th>\n",
       "      <th>price</th>\n",
       "      <th>size</th>\n",
       "    </tr>\n",
       "  </thead>\n",
       "  <tbody>\n",
       "    <tr>\n",
       "      <th>0</th>\n",
       "      <td>234314.144</td>\n",
       "      <td>643.09</td>\n",
       "    </tr>\n",
       "    <tr>\n",
       "      <th>1</th>\n",
       "      <td>228581.528</td>\n",
       "      <td>656.22</td>\n",
       "    </tr>\n",
       "    <tr>\n",
       "      <th>2</th>\n",
       "      <td>281626.336</td>\n",
       "      <td>487.29</td>\n",
       "    </tr>\n",
       "    <tr>\n",
       "      <th>3</th>\n",
       "      <td>401255.608</td>\n",
       "      <td>1504.75</td>\n",
       "    </tr>\n",
       "    <tr>\n",
       "      <th>4</th>\n",
       "      <td>458674.256</td>\n",
       "      <td>1275.46</td>\n",
       "    </tr>\n",
       "  </tbody>\n",
       "</table>\n",
       "</div>"
      ],
      "text/plain": [
       "        price     size\n",
       "0  234314.144   643.09\n",
       "1  228581.528   656.22\n",
       "2  281626.336   487.29\n",
       "3  401255.608  1504.75\n",
       "4  458674.256  1275.46"
      ]
     },
     "execution_count": 3,
     "metadata": {},
     "output_type": "execute_result"
    }
   ],
   "source": [
    "df.head()"
   ]
  },
  {
   "cell_type": "code",
   "execution_count": 4,
   "metadata": {},
   "outputs": [
    {
     "data": {
      "text/plain": [
       "(100, 2)"
      ]
     },
     "execution_count": 4,
     "metadata": {},
     "output_type": "execute_result"
    }
   ],
   "source": [
    "df.shape"
   ]
  },
  {
   "cell_type": "code",
   "execution_count": 5,
   "metadata": {},
   "outputs": [
    {
     "data": {
      "text/plain": [
       "price    0\n",
       "size     0\n",
       "dtype: int64"
      ]
     },
     "execution_count": 5,
     "metadata": {},
     "output_type": "execute_result"
    }
   ],
   "source": [
    "df.isna().sum()"
   ]
  },
  {
   "cell_type": "code",
   "execution_count": 7,
   "metadata": {},
   "outputs": [
    {
     "data": {
      "image/png": "[encoded data removed]",
      "text/plain": [
       "<Figure size 432x288 with 1 Axes>"
      ]
     },
     "metadata": {
      "needs_background": "light"
     },
     "output_type": "display_data"
    }
   ],
   "source": [
    "# df.plot(df['size'], df['price'] , kind='scatter')\n",
    "plt.scatter(df['size'], df['price'])\n",
    "plt.xlabel('SIZE')\n",
    "plt.ylabel('SIZE')\n",
    "plt.show()"
   ]
  },
  {
   "cell_type": "code",
   "execution_count": 8,
   "metadata": {},
   "outputs": [
    {
     "data": {
      "text/html": [
       "<div>\n",
       "<style scoped>\n",
       "    .dataframe tbody tr th:only-of-type {\n",
       "        vertical-align: middle;\n",
       "    }\n",
       "\n",
       "    .dataframe tbody tr th {\n",
       "        vertical-align: top;\n",
       "    }\n",
       "\n",
       "    .dataframe thead th {\n",
       "        text-align: right;\n",
       "    }\n",
       "</style>\n",
       "<table border=\"1\" class=\"dataframe\">\n",
       "  <thead>\n",
       "    <tr style=\"text-align: right;\">\n",
       "      <th></th>\n",
       "      <th>price</th>\n",
       "      <th>size</th>\n",
       "    </tr>\n",
       "  </thead>\n",
       "  <tbody>\n",
       "    <tr>\n",
       "      <th>count</th>\n",
       "      <td>100.000000</td>\n",
       "      <td>100.000000</td>\n",
       "    </tr>\n",
       "    <tr>\n",
       "      <th>mean</th>\n",
       "      <td>292289.470160</td>\n",
       "      <td>853.024200</td>\n",
       "    </tr>\n",
       "    <tr>\n",
       "      <th>std</th>\n",
       "      <td>77051.727525</td>\n",
       "      <td>297.941951</td>\n",
       "    </tr>\n",
       "    <tr>\n",
       "      <th>min</th>\n",
       "      <td>154282.128000</td>\n",
       "      <td>479.750000</td>\n",
       "    </tr>\n",
       "    <tr>\n",
       "      <th>25%</th>\n",
       "      <td>234280.148000</td>\n",
       "      <td>643.330000</td>\n",
       "    </tr>\n",
       "    <tr>\n",
       "      <th>50%</th>\n",
       "      <td>280590.716000</td>\n",
       "      <td>696.405000</td>\n",
       "    </tr>\n",
       "    <tr>\n",
       "      <th>75%</th>\n",
       "      <td>335723.696000</td>\n",
       "      <td>1029.322500</td>\n",
       "    </tr>\n",
       "    <tr>\n",
       "      <th>max</th>\n",
       "      <td>500681.128000</td>\n",
       "      <td>1842.510000</td>\n",
       "    </tr>\n",
       "  </tbody>\n",
       "</table>\n",
       "</div>"
      ],
      "text/plain": [
       "               price         size\n",
       "count     100.000000   100.000000\n",
       "mean   292289.470160   853.024200\n",
       "std     77051.727525   297.941951\n",
       "min    154282.128000   479.750000\n",
       "25%    234280.148000   643.330000\n",
       "50%    280590.716000   696.405000\n",
       "75%    335723.696000  1029.322500\n",
       "max    500681.128000  1842.510000"
      ]
     },
     "execution_count": 8,
     "metadata": {},
     "output_type": "execute_result"
    }
   ],
   "source": [
    "df.describe()"
   ]
  },
  {
   "cell_type": "code",
   "execution_count": 9,
   "metadata": {},
   "outputs": [
    {
     "data": {
      "text/plain": [
       "<seaborn.axisgrid.PairGrid at 0x7f0d8b5ae5d0>"
      ]
     },
     "execution_count": 9,
     "metadata": {},
     "output_type": "execute_result"
    },
    {
     "data": {
      "image/png": "[encoded data removed]",
      "text/plain": [
       "<Figure size 720x720 with 6 Axes>"
      ]
     },
     "metadata": {
      "needs_background": "light"
     },
     "output_type": "display_data"
    }
   ],
   "source": [
    "sns.pairplot(df, height=5)"
   ]
  },
  {
   "cell_type": "markdown",
   "metadata": {},
   "source": [
    "## Data Cleaning"
   ]
  },
  {
   "cell_type": "code",
   "execution_count": 10,
   "metadata": {},
   "outputs": [
    {
     "data": {
      "text/plain": [
       "price    10\n",
       "size     10\n",
       "dtype: int64"
      ]
     },
     "execution_count": 10,
     "metadata": {},
     "output_type": "execute_result"
    }
   ],
   "source": [
    "df[df['size']>1310].count()"
   ]
  },
  {
   "cell_type": "code",
   "execution_count": 11,
   "metadata": {},
   "outputs": [],
   "source": [
    "cleaned_df = df[df['size']<1310]"
   ]
  },
  {
   "cell_type": "code",
   "execution_count": 12,
   "metadata": {},
   "outputs": [
    {
     "data": {
      "text/html": [
       "<div>\n",
       "<style scoped>\n",
       "    .dataframe tbody tr th:only-of-type {\n",
       "        vertical-align: middle;\n",
       "    }\n",
       "\n",
       "    .dataframe tbody tr th {\n",
       "        vertical-align: top;\n",
       "    }\n",
       "\n",
       "    .dataframe thead th {\n",
       "        text-align: right;\n",
       "    }\n",
       "</style>\n",
       "<table border=\"1\" class=\"dataframe\">\n",
       "  <thead>\n",
       "    <tr style=\"text-align: right;\">\n",
       "      <th></th>\n",
       "      <th>price</th>\n",
       "      <th>size</th>\n",
       "    </tr>\n",
       "  </thead>\n",
       "  <tbody>\n",
       "    <tr>\n",
       "      <th>count</th>\n",
       "      <td>90.000000</td>\n",
       "      <td>90.000000</td>\n",
       "    </tr>\n",
       "    <tr>\n",
       "      <th>mean</th>\n",
       "      <td>277749.933600</td>\n",
       "      <td>784.075889</td>\n",
       "    </tr>\n",
       "    <tr>\n",
       "      <th>std</th>\n",
       "      <td>65040.366812</td>\n",
       "      <td>219.861581</td>\n",
       "    </tr>\n",
       "    <tr>\n",
       "      <th>min</th>\n",
       "      <td>154282.128000</td>\n",
       "      <td>479.750000</td>\n",
       "    </tr>\n",
       "    <tr>\n",
       "      <th>25%</th>\n",
       "      <td>229809.448000</td>\n",
       "      <td>635.665000</td>\n",
       "    </tr>\n",
       "    <tr>\n",
       "      <th>50%</th>\n",
       "      <td>270624.904000</td>\n",
       "      <td>688.010000</td>\n",
       "    </tr>\n",
       "    <tr>\n",
       "      <th>75%</th>\n",
       "      <td>304339.758000</td>\n",
       "      <td>1010.060000</td>\n",
       "    </tr>\n",
       "    <tr>\n",
       "      <th>max</th>\n",
       "      <td>458674.256000</td>\n",
       "      <td>1300.960000</td>\n",
       "    </tr>\n",
       "  </tbody>\n",
       "</table>\n",
       "</div>"
      ],
      "text/plain": [
       "               price         size\n",
       "count      90.000000    90.000000\n",
       "mean   277749.933600   784.075889\n",
       "std     65040.366812   219.861581\n",
       "min    154282.128000   479.750000\n",
       "25%    229809.448000   635.665000\n",
       "50%    270624.904000   688.010000\n",
       "75%    304339.758000  1010.060000\n",
       "max    458674.256000  1300.960000"
      ]
     },
     "execution_count": 12,
     "metadata": {},
     "output_type": "execute_result"
    }
   ],
   "source": [
    "cleaned_df.describe()"
   ]
  },
  {
   "cell_type": "code",
   "execution_count": 13,
   "metadata": {},
   "outputs": [
    {
     "data": {
      "text/plain": [
       "(array([16., 42.,  6.,  9.,  9.,  7.,  5.,  5.,  0.,  1.]),\n",
       " array([ 479.75 ,  616.026,  752.302,  888.578, 1024.854, 1161.13 ,\n",
       "        1297.406, 1433.682, 1569.958, 1706.234, 1842.51 ]),\n",
       " <a list of 10 Patch objects>)"
      ]
     },
     "execution_count": 13,
     "metadata": {},
     "output_type": "execute_result"
    },
    {
     "data": {
      "image/png": "[encoded data removed]",
      "text/plain": [
       "<Figure size 432x288 with 1 Axes>"
      ]
     },
     "metadata": {
      "needs_background": "light"
     },
     "output_type": "display_data"
    }
   ],
   "source": [
    "plt.hist(df['size'])"
   ]
  },
  {
   "cell_type": "code",
   "execution_count": 14,
   "metadata": {},
   "outputs": [
    {
     "data": {
      "text/plain": [
       "(array([ 9., 17., 31.,  1.,  6.,  0., 13.,  5.,  4.,  4.]),\n",
       " array([ 479.75 ,  561.871,  643.992,  726.113,  808.234,  890.355,\n",
       "         972.476, 1054.597, 1136.718, 1218.839, 1300.96 ]),\n",
       " <a list of 10 Patch objects>)"
      ]
     },
     "execution_count": 14,
     "metadata": {},
     "output_type": "execute_result"
    },
    {
     "data": {
      "image/png": "[encoded data removed]",
      "text/plain": [
       "<Figure size 432x288 with 1 Axes>"
      ]
     },
     "metadata": {
      "needs_background": "light"
     },
     "output_type": "display_data"
    }
   ],
   "source": [
    "plt.hist(cleaned_df['size'])"
   ]
  },
  {
   "cell_type": "markdown",
   "metadata": {},
   "source": [
    "## Data Transformation"
   ]
  },
  {
   "cell_type": "code",
   "execution_count": 15,
   "metadata": {},
   "outputs": [
    {
     "data": {
      "text/plain": [
       "0.8389006031345327"
      ]
     },
     "execution_count": 15,
     "metadata": {},
     "output_type": "execute_result"
    }
   ],
   "source": [
    "cleaned_df['size'].skew()"
   ]
  },
  {
   "cell_type": "code",
   "execution_count": 16,
   "metadata": {},
   "outputs": [
    {
     "data": {
      "text/plain": [
       "0.5304383997600514"
      ]
     },
     "execution_count": 16,
     "metadata": {},
     "output_type": "execute_result"
    }
   ],
   "source": [
    "np.log(cleaned_df['size']).skew()"
   ]
  },
  {
   "cell_type": "code",
   "execution_count": 17,
   "metadata": {},
   "outputs": [
    {
     "data": {
      "text/plain": [
       "0.6899068381185791"
      ]
     },
     "execution_count": 17,
     "metadata": {},
     "output_type": "execute_result"
    }
   ],
   "source": [
    "np.sqrt(cleaned_df['size']).skew()"
   ]
  },
  {
   "cell_type": "code",
   "execution_count": 18,
   "metadata": {},
   "outputs": [
    {
     "data": {
      "text/plain": [
       "<matplotlib.axes._subplots.AxesSubplot at 0x7f0d892e5b50>"
      ]
     },
     "execution_count": 18,
     "metadata": {},
     "output_type": "execute_result"
    },
    {
     "data": {
      "image/png": "[encoded data removed]",
      "text/plain": [
       "<Figure size 432x288 with 1 Axes>"
      ]
     },
     "metadata": {
      "needs_background": "light"
     },
     "output_type": "display_data"
    }
   ],
   "source": [
    "sns.distplot(cleaned_df['size'])"
   ]
  },
  {
   "cell_type": "code",
   "execution_count": 19,
   "metadata": {},
   "outputs": [
    {
     "data": {
      "text/plain": [
       "<matplotlib.axes._subplots.AxesSubplot at 0x7f0d891ee210>"
      ]
     },
     "execution_count": 19,
     "metadata": {},
     "output_type": "execute_result"
    },
    {
     "data": {
      "image/png": "[encoded data removed]",
      "text/plain": [
       "<Figure size 432x288 with 1 Axes>"
      ]
     },
     "metadata": {
      "needs_background": "light"
     },
     "output_type": "display_data"
    }
   ],
   "source": [
    "sns.distplot(np.log(cleaned_df['size']))"
   ]
  },
  {
   "cell_type": "code",
   "execution_count": 20,
   "metadata": {},
   "outputs": [
    {
     "data": {
      "text/plain": [
       "<matplotlib.axes._subplots.AxesSubplot at 0x7f0d8916b250>"
      ]
     },
     "execution_count": 20,
     "metadata": {},
     "output_type": "execute_result"
    },
    {
     "data": {
      "image/png": "[encoded data removed]",
      "text/plain": [
       "<Figure size 432x288 with 1 Axes>"
      ]
     },
     "metadata": {
      "needs_background": "light"
     },
     "output_type": "display_data"
    }
   ],
   "source": [
    "sns.distplot(np.sqrt(cleaned_df['size']))"
   ]
  },
  {
   "cell_type": "markdown",
   "metadata": {},
   "source": [
    "# Solving with Deep Learning"
   ]
  },
  {
   "cell_type": "markdown",
   "metadata": {},
   "source": [
    "### Building Model with TF & Keras"
   ]
  },
  {
   "cell_type": "code",
   "execution_count": 28,
   "metadata": {},
   "outputs": [
    {
     "data": {
      "text/plain": [
       "array([[-0.70816415],\n",
       "       [-0.66387316],\n",
       "       [-1.23371919],\n",
       "       [ 2.19844528],\n",
       "       [ 1.42498884],\n",
       "       [-0.937209  ],\n",
       "       [-0.95171405],\n",
       "       [-0.78328682],\n",
       "       [-0.57603328],\n",
       "       [-0.53467702],\n",
       "       [ 0.69939906],\n",
       "       [ 3.33780001],\n",
       "       [-0.53467702],\n",
       "       [ 0.52699137],\n",
       "       [ 1.51100715],\n",
       "       [ 1.77668568],\n",
       "       [-0.54810263],\n",
       "       [-0.77276222],\n",
       "       [-0.58004747],\n",
       "       [ 0.58943055],\n",
       "       [-0.78365788],\n",
       "       [-1.02322731],\n",
       "       [ 1.19557293],\n",
       "       [-1.12884431],\n",
       "       [-1.10378093],\n",
       "       [ 0.84424715],\n",
       "       [-0.95171405],\n",
       "       [ 1.62279723],\n",
       "       [-0.58004747],\n",
       "       [ 2.17014356],\n",
       "       [ 0.5306345 ],\n",
       "       [-0.58004747],\n",
       "       [-0.8606021 ],\n",
       "       [-1.10378093],\n",
       "       [ 0.015233  ],\n",
       "       [-0.77603429],\n",
       "       [-0.10057126],\n",
       "       [-0.95387294],\n",
       "       [-0.56517136],\n",
       "       [-0.5219598 ],\n",
       "       [ 0.56983186],\n",
       "       [-0.57603328],\n",
       "       [-0.10057126],\n",
       "       [ 1.62279723],\n",
       "       [ 0.69939906],\n",
       "       [-0.5219598 ],\n",
       "       [-0.7415595 ],\n",
       "       [-0.5219598 ],\n",
       "       [-0.7415595 ],\n",
       "       [-0.79600403],\n",
       "       [-0.69328805],\n",
       "       [ 0.56983186],\n",
       "       [ 0.56983186],\n",
       "       [-0.42214483],\n",
       "       [-0.69328805],\n",
       "       [ 2.21224194],\n",
       "       [ 0.6039356 ],\n",
       "       [ 1.45329055],\n",
       "       [-0.08495304],\n",
       "       [-0.95751607],\n",
       "       [-0.08387359],\n",
       "       [-0.52125142],\n",
       "       [ 1.18939985],\n",
       "       [ 0.56983186],\n",
       "       [-0.56517136],\n",
       "       [-0.08748299],\n",
       "       [ 0.52699137],\n",
       "       [-1.02285625],\n",
       "       [-0.56517136],\n",
       "       [ 2.17014356],\n",
       "       [ 0.56983186],\n",
       "       [-0.70708471],\n",
       "       [-0.66387316],\n",
       "       [-1.02285625],\n",
       "       [-0.56517136],\n",
       "       [-0.56517136],\n",
       "       [ 1.11464825],\n",
       "       [ 1.62279723],\n",
       "       [-0.57603328],\n",
       "       [ 1.13205431],\n",
       "       [-0.58004747],\n",
       "       [ 0.90847416],\n",
       "       [-0.58004747],\n",
       "       [-0.70816415],\n",
       "       [-0.56517136],\n",
       "       [ 0.52699137],\n",
       "       [-1.25915362],\n",
       "       [ 0.59162317],\n",
       "       [-0.84791862],\n",
       "       [ 1.29501685],\n",
       "       [-0.53467702],\n",
       "       [ 0.73714592],\n",
       "       [-0.53467702],\n",
       "       [-0.5219598 ],\n",
       "       [-0.5219598 ],\n",
       "       [-1.02285625],\n",
       "       [ 0.62208377],\n",
       "       [ 2.19844528],\n",
       "       [-0.69062317],\n",
       "       [-0.49834693]])"
      ]
     },
     "execution_count": 28,
     "metadata": {},
     "output_type": "execute_result"
    }
   ],
   "source": [
    "scaled_X"
   ]
  },
  {
   "cell_type": "code",
   "execution_count": 21,
   "metadata": {},
   "outputs": [],
   "source": [
    "X = df['size'].values\n",
    "y = df['price'].values"
   ]
  },
  {
   "cell_type": "code",
   "execution_count": 23,
   "metadata": {},
   "outputs": [],
   "source": [
    "from sklearn.preprocessing import StandardScaler"
   ]
  },
  {
   "cell_type": "code",
   "execution_count": 24,
   "metadata": {},
   "outputs": [],
   "source": [
    "scaler = StandardScaler()\n",
    "y_scaler = StandardScaler()\n",
    "scaler.fit(X.reshape(-1,1))\n",
    "scaled_y = y_scaler.fit_transform(y.reshape(-1,1))\n",
    "scaled_X = scaler.transform(X.reshape(-1,1))"
   ]
  },
  {
   "cell_type": "code",
   "execution_count": 25,
   "metadata": {},
   "outputs": [],
   "source": [
    "model = tf.keras.Sequential()\n",
    "model.add(tf.keras.layers.Dense(32,input_shape=(1,), activation='relu'))\n",
    "model.add(tf.keras.layers.Dense(32, activation='relu'))\n",
    "model.add(tf.keras.layers.Dense(16, activation='relu'))\n",
    "model.add(tf.keras.layers.Dense(1))"
   ]
  },
  {
   "cell_type": "code",
   "execution_count": 26,
   "metadata": {},
   "outputs": [],
   "source": [
    "# optimiser= tf.keras.optimizers.RMSprop(0.001)\n",
    "model.compile(loss='mse', optimizer='adam',  metrics=['mae', 'mse'])"
   ]
  },
  {
   "cell_type": "code",
   "execution_count": 27,
   "metadata": {
    "scrolled": false
   },
   "outputs": [
    {
     "name": "stdout",
     "output_type": "stream",
     "text": [
      "Epoch 1/50\n",
      "3/3 - 0s - loss: 0.9632 - mae: 0.7828 - mse: 0.9632 - val_loss: 0.7314 - val_mae: 0.6938 - val_mse: 0.7314\n",
      "Epoch 2/50\n",
      "3/3 - 0s - loss: 0.8746 - mae: 0.7476 - mse: 0.8746 - val_loss: 0.6788 - val_mae: 0.6616 - val_mse: 0.6788\n",
      "Epoch 3/50\n",
      "3/3 - 0s - loss: 0.7920 - mae: 0.7146 - mse: 0.7920 - val_loss: 0.6281 - val_mae: 0.6289 - val_mse: 0.6281\n",
      "Epoch 4/50\n",
      "3/3 - 0s - loss: 0.7209 - mae: 0.6829 - mse: 0.7209 - val_loss: 0.5788 - val_mae: 0.5948 - val_mse: 0.5788\n",
      "Epoch 5/50\n",
      "3/3 - 0s - loss: 0.6541 - mae: 0.6506 - mse: 0.6541 - val_loss: 0.5354 - val_mae: 0.5610 - val_mse: 0.5354\n",
      "Epoch 6/50\n",
      "3/3 - 0s - loss: 0.6007 - mae: 0.6232 - mse: 0.6007 - val_loss: 0.4953 - val_mae: 0.5318 - val_mse: 0.4953\n",
      "Epoch 7/50\n",
      "3/3 - 0s - loss: 0.5393 - mae: 0.5937 - mse: 0.5393 - val_loss: 0.4599 - val_mae: 0.5048 - val_mse: 0.4599\n",
      "Epoch 8/50\n",
      "3/3 - 0s - loss: 0.4854 - mae: 0.5645 - mse: 0.4854 - val_loss: 0.4279 - val_mae: 0.4777 - val_mse: 0.4279\n",
      "Epoch 9/50\n",
      "3/3 - 0s - loss: 0.4405 - mae: 0.5350 - mse: 0.4405 - val_loss: 0.3983 - val_mae: 0.4564 - val_mse: 0.3983\n",
      "Epoch 10/50\n",
      "3/3 - 0s - loss: 0.3981 - mae: 0.5130 - mse: 0.3981 - val_loss: 0.3718 - val_mae: 0.4423 - val_mse: 0.3718\n",
      "Epoch 11/50\n",
      "3/3 - 0s - loss: 0.3687 - mae: 0.4961 - mse: 0.3687 - val_loss: 0.3489 - val_mae: 0.4344 - val_mse: 0.3489\n",
      "Epoch 12/50\n",
      "3/3 - 0s - loss: 0.3369 - mae: 0.4789 - mse: 0.3369 - val_loss: 0.3309 - val_mae: 0.4279 - val_mse: 0.3309\n",
      "Epoch 13/50\n",
      "3/3 - 0s - loss: 0.3163 - mae: 0.4660 - mse: 0.3163 - val_loss: 0.3170 - val_mae: 0.4241 - val_mse: 0.3170\n",
      "Epoch 14/50\n",
      "3/3 - 0s - loss: 0.2986 - mae: 0.4541 - mse: 0.2986 - val_loss: 0.3059 - val_mae: 0.4237 - val_mse: 0.3059\n",
      "Epoch 15/50\n",
      "3/3 - 0s - loss: 0.2863 - mae: 0.4441 - mse: 0.2863 - val_loss: 0.2967 - val_mae: 0.4274 - val_mse: 0.2967\n",
      "Epoch 16/50\n",
      "3/3 - 0s - loss: 0.2760 - mae: 0.4369 - mse: 0.2760 - val_loss: 0.2911 - val_mae: 0.4319 - val_mse: 0.2911\n",
      "Epoch 17/50\n",
      "3/3 - 0s - loss: 0.2709 - mae: 0.4341 - mse: 0.2709 - val_loss: 0.2862 - val_mae: 0.4367 - val_mse: 0.2862\n",
      "Epoch 18/50\n",
      "3/3 - 0s - loss: 0.2660 - mae: 0.4300 - mse: 0.2660 - val_loss: 0.2823 - val_mae: 0.4396 - val_mse: 0.2823\n",
      "Epoch 19/50\n",
      "3/3 - 0s - loss: 0.2633 - mae: 0.4288 - mse: 0.2633 - val_loss: 0.2767 - val_mae: 0.4393 - val_mse: 0.2767\n",
      "Epoch 20/50\n",
      "3/3 - 0s - loss: 0.2608 - mae: 0.4274 - mse: 0.2608 - val_loss: 0.2725 - val_mae: 0.4387 - val_mse: 0.2725\n",
      "Epoch 21/50\n",
      "3/3 - 0s - loss: 0.2587 - mae: 0.4265 - mse: 0.2587 - val_loss: 0.2691 - val_mae: 0.4372 - val_mse: 0.2691\n",
      "Epoch 22/50\n",
      "3/3 - 0s - loss: 0.2581 - mae: 0.4260 - mse: 0.2581 - val_loss: 0.2664 - val_mae: 0.4363 - val_mse: 0.2664\n",
      "Epoch 23/50\n",
      "3/3 - 0s - loss: 0.2580 - mae: 0.4256 - mse: 0.2580 - val_loss: 0.2647 - val_mae: 0.4360 - val_mse: 0.2647\n",
      "Epoch 24/50\n",
      "3/3 - 0s - loss: 0.2584 - mae: 0.4255 - mse: 0.2584 - val_loss: 0.2636 - val_mae: 0.4368 - val_mse: 0.2636\n",
      "Epoch 25/50\n",
      "3/3 - 0s - loss: 0.2597 - mae: 0.4269 - mse: 0.2597 - val_loss: 0.2626 - val_mae: 0.4363 - val_mse: 0.2626\n",
      "Epoch 26/50\n",
      "3/3 - 0s - loss: 0.2586 - mae: 0.4257 - mse: 0.2586 - val_loss: 0.2631 - val_mae: 0.4379 - val_mse: 0.2631\n",
      "Epoch 27/50\n",
      "3/3 - 0s - loss: 0.2585 - mae: 0.4256 - mse: 0.2585 - val_loss: 0.2638 - val_mae: 0.4383 - val_mse: 0.2638\n",
      "Epoch 28/50\n",
      "3/3 - 0s - loss: 0.2583 - mae: 0.4254 - mse: 0.2583 - val_loss: 0.2647 - val_mae: 0.4384 - val_mse: 0.2647\n",
      "Epoch 29/50\n",
      "3/3 - 0s - loss: 0.2582 - mae: 0.4254 - mse: 0.2582 - val_loss: 0.2658 - val_mae: 0.4387 - val_mse: 0.2658\n",
      "Epoch 30/50\n",
      "3/3 - 0s - loss: 0.2581 - mae: 0.4250 - mse: 0.2581 - val_loss: 0.2661 - val_mae: 0.4373 - val_mse: 0.2661\n",
      "Epoch 31/50\n",
      "3/3 - 0s - loss: 0.2580 - mae: 0.4255 - mse: 0.2580 - val_loss: 0.2674 - val_mae: 0.4374 - val_mse: 0.2674\n",
      "Epoch 32/50\n",
      "3/3 - 0s - loss: 0.2576 - mae: 0.4254 - mse: 0.2576 - val_loss: 0.2678 - val_mae: 0.4364 - val_mse: 0.2678\n",
      "Epoch 33/50\n",
      "3/3 - 0s - loss: 0.2579 - mae: 0.4256 - mse: 0.2579 - val_loss: 0.2675 - val_mae: 0.4351 - val_mse: 0.2675\n",
      "Epoch 34/50\n",
      "3/3 - 0s - loss: 0.2570 - mae: 0.4254 - mse: 0.2570 - val_loss: 0.2681 - val_mae: 0.4359 - val_mse: 0.2681\n",
      "Epoch 35/50\n",
      "3/3 - 0s - loss: 0.2572 - mae: 0.4255 - mse: 0.2572 - val_loss: 0.2689 - val_mae: 0.4364 - val_mse: 0.2689\n",
      "Epoch 36/50\n",
      "3/3 - 0s - loss: 0.2575 - mae: 0.4257 - mse: 0.2575 - val_loss: 0.2691 - val_mae: 0.4372 - val_mse: 0.2691\n",
      "Epoch 37/50\n",
      "3/3 - 0s - loss: 0.2580 - mae: 0.4259 - mse: 0.2580 - val_loss: 0.2675 - val_mae: 0.4360 - val_mse: 0.2675\n",
      "Epoch 38/50\n",
      "3/3 - 0s - loss: 0.2568 - mae: 0.4249 - mse: 0.2568 - val_loss: 0.2671 - val_mae: 0.4353 - val_mse: 0.2671\n",
      "Epoch 39/50\n",
      "3/3 - 0s - loss: 0.2567 - mae: 0.4250 - mse: 0.2567 - val_loss: 0.2671 - val_mae: 0.4348 - val_mse: 0.2671\n",
      "Epoch 40/50\n",
      "3/3 - 0s - loss: 0.2574 - mae: 0.4255 - mse: 0.2574 - val_loss: 0.2675 - val_mae: 0.4353 - val_mse: 0.2675\n",
      "Epoch 41/50\n",
      "3/3 - 0s - loss: 0.2566 - mae: 0.4247 - mse: 0.2566 - val_loss: 0.2666 - val_mae: 0.4354 - val_mse: 0.2666\n",
      "Epoch 42/50\n",
      "3/3 - 0s - loss: 0.2566 - mae: 0.4244 - mse: 0.2566 - val_loss: 0.2656 - val_mae: 0.4344 - val_mse: 0.2656\n",
      "Epoch 43/50\n",
      "3/3 - 0s - loss: 0.2567 - mae: 0.4247 - mse: 0.2567 - val_loss: 0.2651 - val_mae: 0.4336 - val_mse: 0.2651\n",
      "Epoch 44/50\n",
      "3/3 - 0s - loss: 0.2563 - mae: 0.4246 - mse: 0.2563 - val_loss: 0.2650 - val_mae: 0.4340 - val_mse: 0.2650\n",
      "Epoch 45/50\n",
      "3/3 - 0s - loss: 0.2562 - mae: 0.4248 - mse: 0.2562 - val_loss: 0.2640 - val_mae: 0.4329 - val_mse: 0.2640\n",
      "Epoch 46/50\n",
      "3/3 - 0s - loss: 0.2560 - mae: 0.4243 - mse: 0.2560 - val_loss: 0.2637 - val_mae: 0.4330 - val_mse: 0.2637\n",
      "Epoch 47/50\n",
      "3/3 - 0s - loss: 0.2566 - mae: 0.4249 - mse: 0.2566 - val_loss: 0.2630 - val_mae: 0.4314 - val_mse: 0.2630\n",
      "Epoch 48/50\n",
      "3/3 - 0s - loss: 0.2567 - mae: 0.4253 - mse: 0.2567 - val_loss: 0.2622 - val_mae: 0.4302 - val_mse: 0.2622\n",
      "Epoch 49/50\n",
      "3/3 - 0s - loss: 0.2562 - mae: 0.4249 - mse: 0.2562 - val_loss: 0.2622 - val_mae: 0.4307 - val_mse: 0.2622\n",
      "Epoch 50/50\n",
      "3/3 - 0s - loss: 0.2562 - mae: 0.4247 - mse: 0.2562 - val_loss: 0.2628 - val_mae: 0.4326 - val_mse: 0.2628\n"
     ]
    }
   ],
   "source": [
    "EPOCHS = 50\n",
    "history = model.fit(scaled_X, scaled_y, verbose=2, validation_split=0.2, epochs=EPOCHS)"
   ]
  },
  {
   "cell_type": "markdown",
   "metadata": {},
   "source": [
    "#### Predicting "
   ]
  },
  {
   "cell_type": "code",
   "execution_count": 29,
   "metadata": {},
   "outputs": [],
   "source": [
    "def predictions(array):\n",
    "    value = model.predict(scaler.transform([array]))\n",
    "    return y_scaler.inverse_transform(value)"
   ]
  },
  {
   "cell_type": "code",
   "execution_count": 30,
   "metadata": {},
   "outputs": [
    {
     "data": {
      "text/plain": [
       "array([[440354.22]], dtype=float32)"
      ]
     },
     "execution_count": 30,
     "metadata": {},
     "output_type": "execute_result"
    }
   ],
   "source": [
    "predictions([1504])"
   ]
  },
  {
   "cell_type": "markdown",
   "metadata": {},
   "source": [
    "#### Plotting with Matplotlib"
   ]
  },
  {
   "cell_type": "code",
   "execution_count": 31,
   "metadata": {},
   "outputs": [
    {
     "data": {
      "text/html": [
       "<div>\n",
       "<style scoped>\n",
       "    .dataframe tbody tr th:only-of-type {\n",
       "        vertical-align: middle;\n",
       "    }\n",
       "\n",
       "    .dataframe tbody tr th {\n",
       "        vertical-align: top;\n",
       "    }\n",
       "\n",
       "    .dataframe thead th {\n",
       "        text-align: right;\n",
       "    }\n",
       "</style>\n",
       "<table border=\"1\" class=\"dataframe\">\n",
       "  <thead>\n",
       "    <tr style=\"text-align: right;\">\n",
       "      <th></th>\n",
       "      <th>loss</th>\n",
       "      <th>mae</th>\n",
       "      <th>mse</th>\n",
       "      <th>val_loss</th>\n",
       "      <th>val_mae</th>\n",
       "      <th>val_mse</th>\n",
       "      <th>epoch</th>\n",
       "    </tr>\n",
       "  </thead>\n",
       "  <tbody>\n",
       "    <tr>\n",
       "      <th>45</th>\n",
       "      <td>0.255981</td>\n",
       "      <td>0.424314</td>\n",
       "      <td>0.255981</td>\n",
       "      <td>0.263671</td>\n",
       "      <td>0.432975</td>\n",
       "      <td>0.263671</td>\n",
       "      <td>45</td>\n",
       "    </tr>\n",
       "    <tr>\n",
       "      <th>46</th>\n",
       "      <td>0.256606</td>\n",
       "      <td>0.424866</td>\n",
       "      <td>0.256606</td>\n",
       "      <td>0.263021</td>\n",
       "      <td>0.431396</td>\n",
       "      <td>0.263021</td>\n",
       "      <td>46</td>\n",
       "    </tr>\n",
       "    <tr>\n",
       "      <th>47</th>\n",
       "      <td>0.256678</td>\n",
       "      <td>0.425305</td>\n",
       "      <td>0.256678</td>\n",
       "      <td>0.262208</td>\n",
       "      <td>0.430186</td>\n",
       "      <td>0.262208</td>\n",
       "      <td>47</td>\n",
       "    </tr>\n",
       "    <tr>\n",
       "      <th>48</th>\n",
       "      <td>0.256176</td>\n",
       "      <td>0.424934</td>\n",
       "      <td>0.256176</td>\n",
       "      <td>0.262227</td>\n",
       "      <td>0.430660</td>\n",
       "      <td>0.262227</td>\n",
       "      <td>48</td>\n",
       "    </tr>\n",
       "    <tr>\n",
       "      <th>49</th>\n",
       "      <td>0.256180</td>\n",
       "      <td>0.424694</td>\n",
       "      <td>0.256180</td>\n",
       "      <td>0.262772</td>\n",
       "      <td>0.432597</td>\n",
       "      <td>0.262772</td>\n",
       "      <td>49</td>\n",
       "    </tr>\n",
       "  </tbody>\n",
       "</table>\n",
       "</div>"
      ],
      "text/plain": [
       "        loss       mae       mse  val_loss   val_mae   val_mse  epoch\n",
       "45  0.255981  0.424314  0.255981  0.263671  0.432975  0.263671     45\n",
       "46  0.256606  0.424866  0.256606  0.263021  0.431396  0.263021     46\n",
       "47  0.256678  0.425305  0.256678  0.262208  0.430186  0.262208     47\n",
       "48  0.256176  0.424934  0.256176  0.262227  0.430660  0.262227     48\n",
       "49  0.256180  0.424694  0.256180  0.262772  0.432597  0.262772     49"
      ]
     },
     "execution_count": 31,
     "metadata": {},
     "output_type": "execute_result"
    }
   ],
   "source": [
    "hist = pd.DataFrame(history.history)\n",
    "hist['epoch'] = history.epoch\n",
    "hist.tail()"
   ]
  },
  {
   "cell_type": "code",
   "execution_count": 32,
   "metadata": {},
   "outputs": [
    {
     "data": {
      "text/plain": [
       "<matplotlib.legend.Legend at 0x7f0d647eb850>"
      ]
     },
     "execution_count": 32,
     "metadata": {},
     "output_type": "execute_result"
    },
    {
     "data": {
      "image/png": "[encoded data removed]",
      "text/plain": [
       "<Figure size 576x432 with 1 Axes>"
      ]
     },
     "metadata": {
      "needs_background": "light"
     },
     "output_type": "display_data"
    }
   ],
   "source": [
    "plt.figure(figsize=(8,6))\n",
    "plt.plot(hist.epoch, hist.loss, label='loss')\n",
    "plt.plot(hist.epoch, hist.val_loss, label='val_loss')\n",
    "plt.xlabel('No. of EPOCHS')\n",
    "plt.ylabel('LOSS')\n",
    "plt.legend()"
   ]
  },
  {
   "cell_type": "markdown",
   "metadata": {},
   "source": [
    "## Regression Line Plotting"
   ]
  },
  {
   "cell_type": "code",
   "execution_count": 33,
   "metadata": {},
   "outputs": [],
   "source": [
    "predicted_y = model.predict(scaled_X)\n",
    "predicted_y = predicted_y.flatten()"
   ]
  },
  {
   "cell_type": "code",
   "execution_count": 34,
   "metadata": {},
   "outputs": [
    {
     "data": {
      "image/png": "[encoded data removed]",
      "text/plain": [
       "<Figure size 432x288 with 1 Axes>"
      ]
     },
     "metadata": {
      "needs_background": "light"
     },
     "output_type": "display_data"
    }
   ],
   "source": [
    "plt.scatter(scaled_X, scaled_y)\n",
    "plt.scatter(scaled_X, predicted_y)\n",
    "plt.xlabel('SIZE')\n",
    "plt.ylabel('PRICE')\n",
    "plt.show()"
   ]
  },
  {
   "cell_type": "code",
   "execution_count": null,
   "metadata": {},
   "outputs": [],
   "source": []
  },
  {
   "cell_type": "code",
   "execution_count": null,
   "metadata": {},
   "outputs": [],
   "source": []
  },
  {
   "cell_type": "code",
   "execution_count": null,
   "metadata": {},
   "outputs": [],
   "source": []
  },
  {
   "cell_type": "code",
   "execution_count": null,
   "metadata": {},
   "outputs": [],
   "source": []
  },
  {
   "cell_type": "code",
   "execution_count": null,
   "metadata": {},
   "outputs": [],
   "source": []
  },
  {
   "cell_type": "markdown",
   "metadata": {},
   "source": [
    "# Solving with Machine Learning (Linear Regression)"
   ]
  },
  {
   "cell_type": "code",
   "execution_count": 35,
   "metadata": {},
   "outputs": [],
   "source": [
    "from sklearn.linear_model import LinearRegression\n",
    "from sklearn import metrics\n",
    "from sklearn.model_selection import train_test_split"
   ]
  },
  {
   "cell_type": "code",
   "execution_count": 36,
   "metadata": {},
   "outputs": [
    {
     "data": {
      "text/plain": [
       "LinearRegression(copy_X=True, fit_intercept=True, n_jobs=None, normalize=False)"
      ]
     },
     "execution_count": 36,
     "metadata": {},
     "output_type": "execute_result"
    }
   ],
   "source": [
    "lr = LinearRegression()\n",
    "X_lr = df['size'].values.reshape(-1,1)\n",
    "y_lr = df['price'].values.reshape(-1,1)\n",
    "X_train, X_test, y_train, y_test  = train_test_split(X_lr, y_lr)\n",
    "lr.fit(X_train, y_train)"
   ]
  },
  {
   "cell_type": "code",
   "execution_count": 37,
   "metadata": {},
   "outputs": [],
   "source": [
    "y_pred = lr.predict(X_test)"
   ]
  },
  {
   "cell_type": "code",
   "execution_count": 38,
   "metadata": {},
   "outputs": [
    {
     "data": {
      "text/plain": [
       "1821318576.0204728"
      ]
     },
     "execution_count": 38,
     "metadata": {},
     "output_type": "execute_result"
    }
   ],
   "source": [
    "metrics.mean_squared_error(y_test, y_pred)"
   ]
  },
  {
   "cell_type": "code",
   "execution_count": 39,
   "metadata": {},
   "outputs": [
    {
     "data": {
      "text/plain": [
       "0.70373188588149"
      ]
     },
     "execution_count": 39,
     "metadata": {},
     "output_type": "execute_result"
    }
   ],
   "source": [
    "metrics.r2_score(y_test, y_pred)"
   ]
  },
  {
   "cell_type": "code",
   "execution_count": 40,
   "metadata": {},
   "outputs": [
    {
     "data": {
      "image/png": "[encoded data removed]",
      "text/plain": [
       "<Figure size 432x288 with 1 Axes>"
      ]
     },
     "metadata": {
      "needs_background": "light"
     },
     "output_type": "display_data"
    }
   ],
   "source": [
    "plt.scatter(X_test, y_test,  color='black')\n",
    "plt.plot(X_test, y_pred, color='blue', linewidth=3)\n",
    "\n",
    "plt.xticks()\n",
    "plt.yticks()\n",
    "\n",
    "plt.show()"
   ]
  },
  {
   "cell_type": "code",
   "execution_count": null,
   "metadata": {},
   "outputs": [],
   "source": []
  },
  {
   "cell_type": "code",
   "execution_count": null,
   "metadata": {},
   "outputs": [],
   "source": []
  },
  {
   "cell_type": "code",
   "execution_count": null,
   "metadata": {},
   "outputs": [],
   "source": []
  }
 ],
 "metadata": {
  "kernelspec": {
   "display_name": "Python 3",
   "language": "python",
   "name": "python3"
  },
  "language_info": {
   "codemirror_mode": {
    "name": "ipython",
    "version": 3
   },
   "file_extension": ".py",
   "mimetype": "text/x-python",
   "name": "python",
   "nbconvert_exporter": "python",
   "pygments_lexer": "ipython3",
   "version": "3.7.4"
  }
 },
 "nbformat": 4,
 "nbformat_minor": 2
}
